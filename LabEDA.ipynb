{
 "cells": [
  {
   "cell_type": "code",
   "execution_count": 1,
   "id": "4b44036d-eecb-4c60-bd9f-6b1163ccce13",
   "metadata": {},
   "outputs": [],
   "source": [
    "import pandas as pd \n",
    "import numpy as np\n",
    "df = pd.read_csv('amz_uk_price_prediction_dataset.csv')"
   ]
  },
  {
   "cell_type": "code",
   "execution_count": null,
   "id": "e26198f7-679f-48c2-876c-20775e4d6ea7",
   "metadata": {},
   "outputs": [],
   "source": [
    "df"
   ]
  },
  {
   "cell_type": "code",
   "execution_count": null,
   "id": "85dac873-1999-40c5-aff9-a802c4870dcf",
   "metadata": {},
   "outputs": [],
   "source": [
    "df['category'].value_counts()"
   ]
  },
  {
   "cell_type": "code",
   "execution_count": null,
   "id": "a107c5a8",
   "metadata": {},
   "outputs": [],
   "source": [
    "df.category.unique()"
   ]
  },
  {
   "cell_type": "code",
   "execution_count": null,
   "id": "67f4153b",
   "metadata": {},
   "outputs": [],
   "source": [
    "df.nunique()"
   ]
  },
  {
   "cell_type": "code",
   "execution_count": null,
   "id": "dd5776e2",
   "metadata": {},
   "outputs": [],
   "source": [
    "category1 = df.category.value_counts().round(2).reset_index()\n",
    "category1"
   ]
  },
  {
   "cell_type": "code",
   "execution_count": null,
   "id": "27c6971f",
   "metadata": {},
   "outputs": [],
   "source": [
    "port = round(df.category.value_counts('Sports & Outdoors') * 100, 2).reset_index()\n",
    "port"
   ]
  },
  {
   "cell_type": "code",
   "execution_count": null,
   "id": "e271cb28",
   "metadata": {},
   "outputs": [],
   "source": [
    "catport = pd.merge (category1, port, on='category')\n",
    "catport"
   ]
  },
  {
   "cell_type": "code",
   "execution_count": null,
   "id": "abcb0e3c",
   "metadata": {},
   "outputs": [],
   "source": [
    "# Frequency Tables: Generate frequency table for the product category. \n",
    "# Which are the top 5 most listed product categories? \n",
    "top_5cat = catport.sort_values(by='count', ascending=False).head(5)\n",
    "top_5cat.index = top_5cat.index +1\n",
    "top_5cat"
   ]
  },
  {
   "cell_type": "code",
   "execution_count": 10,
   "id": "1cd2faaf",
   "metadata": {},
   "outputs": [],
   "source": [
    "import matplotlib.pyplot as plt\n",
    "import seaborn as sns"
   ]
  },
  {
   "cell_type": "code",
   "execution_count": null,
   "id": "e651b900",
   "metadata": {},
   "outputs": [],
   "source": [
    "sns.barplot(\n",
    "    x='category',\n",
    "    y='proportion',\n",
    "    data=top_5cat,\n",
    "    palette='viridis',\n",
    ")\n",
    "plt.xticks(rotation=35)\n",
    "plt.show()"
   ]
  },
  {
   "cell_type": "code",
   "execution_count": null,
   "id": "3c97746f",
   "metadata": {},
   "outputs": [],
   "source": [
    "#Does not work with category. \n",
    "top_5cat.plot.pie(y='proportion', labels=top_5cat['category'], autopct='%1.2f%%' ,startangle=90, colors=sns.color_palette('Set2'), labeldistance=1)\n",
    "plt.show()"
   ]
  },
  {
   "cell_type": "code",
   "execution_count": 13,
   "id": "926e18f2",
   "metadata": {},
   "outputs": [],
   "source": [
    "# For a subset of top categories, visualize their proportions using a pie chart. \n",
    "# Sports and & Outdoors. "
   ]
  },
  {
   "cell_type": "markdown",
   "id": "399000de",
   "metadata": {},
   "source": [
    "## Part 2: Delving into Product Pricing"
   ]
  },
  {
   "cell_type": "markdown",
   "id": "6fde4c47",
   "metadata": {},
   "source": [
    "Business Question: How are products priced on Amazon UK, and are there specific price points or ranges that are more common?\n",
    "\n",
    "**1. Measures of Centrality:**\n",
    "\n",
    "Calculate the mean, median, and mode for the price of products.\n",
    "\n",
    "What's the average price point of products listed? How does this compare with the most common price point (mode)?\n",
    "\n",
    "**2. Measures of Dispersion:**\n",
    "\n",
    "Determine the variance, standard deviation, range, and interquartile range for product price.\n",
    "\n",
    "How varied are the product prices? Are there any indicators of a significant spread in prices?\n",
    "\n",
    "**3. Visualizations:**\n",
    "\n",
    "Is there a specific price range where most products fall? Plot a histogram to visualize the distribution of product prices. If its hard to read these diagrams, think why this is, and explain how it could be solved.\n",
    "\n",
    "Are there products that are priced significantly higher than the rest? Use a box plot to showcase the spread and potential outliers in product pricing."
   ]
  },
  {
   "cell_type": "code",
   "execution_count": null,
   "id": "1602e0dd",
   "metadata": {},
   "outputs": [],
   "source": [
    "df"
   ]
  },
  {
   "cell_type": "code",
   "execution_count": null,
   "id": "0d232846",
   "metadata": {},
   "outputs": [],
   "source": [
    "df.describe().T"
   ]
  },
  {
   "cell_type": "code",
   "execution_count": null,
   "id": "22b0d6ad",
   "metadata": {},
   "outputs": [],
   "source": [
    "df['price'].mean()"
   ]
  },
  {
   "cell_type": "code",
   "execution_count": null,
   "id": "77521fb4",
   "metadata": {},
   "outputs": [],
   "source": [
    "df['price'].median()"
   ]
  },
  {
   "cell_type": "code",
   "execution_count": null,
   "id": "19b31835",
   "metadata": {},
   "outputs": [],
   "source": [
    "df['price'].mode()"
   ]
  },
  {
   "cell_type": "code",
   "execution_count": null,
   "id": "b307c937",
   "metadata": {},
   "outputs": [],
   "source": [
    "num = df.select_dtypes(include='number')\n",
    "num"
   ]
  },
  {
   "cell_type": "code",
   "execution_count": null,
   "id": "5c6112fd",
   "metadata": {},
   "outputs": [],
   "source": [
    "# Porque numeros tan grandes el precio? \n",
    "sns.histplot(num.price, bins=15)\n",
    "plt.show()"
   ]
  },
  {
   "cell_type": "code",
   "execution_count": null,
   "id": "6e62b1fc",
   "metadata": {},
   "outputs": [],
   "source": [
    "df['price'].std()"
   ]
  },
  {
   "cell_type": "code",
   "execution_count": null,
   "id": "e4862849",
   "metadata": {},
   "outputs": [],
   "source": [
    "df['price'].var()"
   ]
  },
  {
   "cell_type": "code",
   "execution_count": null,
   "id": "7c2e6c5c",
   "metadata": {},
   "outputs": [],
   "source": [
    "num.describe().T.round(2)"
   ]
  },
  {
   "cell_type": "code",
   "execution_count": null,
   "id": "ef442d48",
   "metadata": {},
   "outputs": [],
   "source": [
    "df['price'].quantile([0.5])"
   ]
  },
  {
   "cell_type": "code",
   "execution_count": null,
   "id": "c56da420",
   "metadata": {},
   "outputs": [],
   "source": [
    "\"\"\"\n",
    "High variance (119,445.48) and std (345.60). These confirm that the price vary widely from the mean. The Standard deviation suggest that, on average, prices deviate from the mean by 345.60. \n",
    "Large range and high variance indicate diverse pricing structure. \n",
    "\"\"\" "
   ]
  },
  {
   "cell_type": "code",
   "execution_count": null,
   "id": "37e19940",
   "metadata": {},
   "outputs": [],
   "source": [
    "# Porque numeros tan grandes el precio? \n",
    "sns.histplot(num.price, bins=20)\n",
    "plt.show()"
   ]
  },
  {
   "cell_type": "code",
   "execution_count": null,
   "id": "0cab060e",
   "metadata": {},
   "outputs": [],
   "source": [
    "num.sort_values(by='price', ascending=False)"
   ]
  },
  {
   "cell_type": "code",
   "execution_count": null,
   "id": "e9089859",
   "metadata": {},
   "outputs": [],
   "source": [
    "df.sort_values(by='price', ascending=False).head(30)"
   ]
  },
  {
   "cell_type": "code",
   "execution_count": null,
   "id": "ce1b6e10",
   "metadata": {},
   "outputs": [],
   "source": [
    "value_zero = df.loc[df['price'] == 0.0]\n",
    "value_zero.value_counts().sum()"
   ]
  },
  {
   "cell_type": "code",
   "execution_count": null,
   "id": "d0eac9fd",
   "metadata": {},
   "outputs": [],
   "source": [
    "df.sort_values(by='price', ascending=True).head(30)"
   ]
  },
  {
   "cell_type": "code",
   "execution_count": null,
   "id": "3e2601eb",
   "metadata": {},
   "outputs": [],
   "source": [
    "df[df['price'].isin([0.0])]"
   ]
  },
  {
   "cell_type": "code",
   "execution_count": null,
   "id": "fcb281fc",
   "metadata": {},
   "outputs": [],
   "source": [
    "# It is difficult to read the diagrams beacuse the prices most of them are in the first quartile and there is an outliers of prices above 20,000$. (20 aprox)and one of 100,000$ "
   ]
  },
  {
   "cell_type": "code",
   "execution_count": null,
   "id": "842628d9",
   "metadata": {},
   "outputs": [],
   "source": [
    "# I cannot see anything. \n",
    "sns.boxplot(data=num.price)\n",
    "plt.show()"
   ]
  },
  {
   "cell_type": "code",
   "execution_count": null,
   "id": "b2191a0b",
   "metadata": {},
   "outputs": [],
   "source": []
  },
  {
   "cell_type": "markdown",
   "id": "1f8a0474",
   "metadata": {},
   "source": [
    "## Part 3: Unpacking Product Ratings"
   ]
  },
  {
   "cell_type": "markdown",
   "id": "f60f68ec",
   "metadata": {},
   "source": [
    "Business Question: How do customers rate products on Amazon UK, and are there any patterns or tendencies in the ratings?\n",
    "\n",
    "**Measures of Centrality:**\n",
    "\n",
    "Calculate the mean, median, and mode for the rating of products.\n",
    "\n",
    "How do customers generally rate products? Is there a common trend?\n",
    "\n",
    "**Measures of Dispersion:**\n",
    "\n",
    "Determine the variance, standard deviation, and interquartile range for product rating.\n",
    "\n",
    "Are the ratings consistent, or is there a wide variation in customer feedback?\n",
    "\n",
    "**Shape of the Distribution:**\n",
    "\n",
    "Calculate the skewness and kurtosis for the rating column.\n",
    "\n",
    "Are the ratings normally distributed, or do they lean towards higher or lower values?\n",
    "\n",
    "**Visualizations:**\n",
    "\n",
    "Plot a histogram to visualize the distribution of product ratings. Is there a specific rating that is more common?"
   ]
  },
  {
   "cell_type": "code",
   "execution_count": null,
   "id": "dfc7f90d",
   "metadata": {},
   "outputs": [],
   "source": [
    "df"
   ]
  },
  {
   "cell_type": "code",
   "execution_count": 34,
   "id": "538487aa",
   "metadata": {},
   "outputs": [],
   "source": [
    "def categorize_starts (stars):\n",
    "    if stars >= 4.5 and stars <= 5.0:\n",
    "        return 'Excellent'\n",
    "    elif stars >= 3.5 and stars < 4.5:\n",
    "        return 'Very Good'\n",
    "    elif stars >= 2.5 and stars < 3.5:\n",
    "        return 'Good'\n",
    "    elif stars >= 1.5 and stars < 2.5:\n",
    "        return 'Fair'\n",
    "    else:\n",
    "        return 'Bad'\n",
    "df['rating'] = df['stars'].apply(categorize_starts)"
   ]
  },
  {
   "cell_type": "code",
   "execution_count": null,
   "id": "0c6bd936",
   "metadata": {},
   "outputs": [],
   "source": [
    "df.sample(10)"
   ]
  },
  {
   "cell_type": "code",
   "execution_count": null,
   "id": "a24b4456",
   "metadata": {},
   "outputs": [],
   "source": [
    "df.dtypes"
   ]
  },
  {
   "cell_type": "code",
   "execution_count": null,
   "id": "fbe1a530",
   "metadata": {},
   "outputs": [],
   "source": [
    "rating1 = df['rating'].value_counts().reset_index()\n",
    "rating1"
   ]
  },
  {
   "cell_type": "code",
   "execution_count": 38,
   "id": "97ed0386",
   "metadata": {},
   "outputs": [],
   "source": [
    "rate = round(df.rating.value_counts('Bad') * 100, 2).reset_index()"
   ]
  },
  {
   "cell_type": "code",
   "execution_count": null,
   "id": "0091bacd",
   "metadata": {},
   "outputs": [],
   "source": [
    "rate_merge = pd.merge(rating1, rate, on='rating')\n",
    "rate_merge"
   ]
  },
  {
   "cell_type": "code",
   "execution_count": null,
   "id": "7badfeeb",
   "metadata": {},
   "outputs": [],
   "source": [
    "def categorize_rating (i):\n",
    "    if i == 'Excellent':\n",
    "        return 5\n",
    "    elif == 'Very Good':\n",
    "        return 4\n",
    "    elif == 'Good':\n",
    "        return 3\n",
    "    elif == 'Fair':\n",
    "        return 2\n",
    "    else:\n",
    "        return 1\n",
    "df['value'] = df['rating'].apply(categorize_rating)"
   ]
  },
  {
   "cell_type": "code",
   "execution_count": 43,
   "id": "b201b274",
   "metadata": {},
   "outputs": [],
   "source": [
    "def categorize_rating(i):\n",
    "    if i == 'Excellent':\n",
    "        return 5\n",
    "    elif i == 'Very Good':\n",
    "        return 4\n",
    "    elif i == 'Good':\n",
    "        return 3\n",
    "    elif i == 'Fair':\n",
    "        return 2\n",
    "    else:  # This covers 'Bad' or any other category\n",
    "        return 1\n",
    "df['value'] = df['rating'].apply(categorize_rating)"
   ]
  },
  {
   "cell_type": "code",
   "execution_count": null,
   "id": "6fb96883",
   "metadata": {},
   "outputs": [],
   "source": [
    "df"
   ]
  },
  {
   "cell_type": "code",
   "execution_count": null,
   "id": "14ef2ce9",
   "metadata": {},
   "outputs": [],
   "source": [
    "df['value'].mean()"
   ]
  },
  {
   "cell_type": "code",
   "execution_count": null,
   "id": "8689342d",
   "metadata": {},
   "outputs": [],
   "source": [
    "df['value'].median()"
   ]
  },
  {
   "cell_type": "code",
   "execution_count": null,
   "id": "9dcca392",
   "metadata": {},
   "outputs": [],
   "source": [
    "df['value'].mode()"
   ]
  },
  {
   "cell_type": "code",
   "execution_count": null,
   "id": "05f9455a",
   "metadata": {},
   "outputs": [],
   "source": [
    "df['value'].var()"
   ]
  },
  {
   "cell_type": "code",
   "execution_count": null,
   "id": "34fdb5af",
   "metadata": {},
   "outputs": [],
   "source": [
    "df['value'].std()"
   ]
  },
  {
   "cell_type": "code",
   "execution_count": null,
   "id": "58096a02",
   "metadata": {},
   "outputs": [],
   "source": [
    "df['value'].quantile([0.5])"
   ]
  },
  {
   "cell_type": "code",
   "execution_count": null,
   "id": "edc15be9",
   "metadata": {},
   "outputs": [],
   "source": [
    "# In this case we do have inconsistency and variation pointing to a disparity in customer satisfaction. Positively skewed."
   ]
  },
  {
   "cell_type": "code",
   "execution_count": null,
   "id": "2e04a65b",
   "metadata": {},
   "outputs": [],
   "source": [
    "sns.histplot(df.stars, bins=50)\n",
    "plt.show()"
   ]
  },
  {
   "cell_type": "code",
   "execution_count": null,
   "id": "1e08e066",
   "metadata": {},
   "outputs": [],
   "source": [
    "sns.boxplot(data=df.value)\n",
    "plt.show()"
   ]
  },
  {
   "cell_type": "code",
   "execution_count": null,
   "id": "cffda5b2",
   "metadata": {},
   "outputs": [],
   "source": [
    "# There is a longer tail on the positively skewed. But not for too mcuh. \n",
    "df.stars.skew().round(2)"
   ]
  },
  {
   "cell_type": "code",
   "execution_count": null,
   "id": "ce7236e4",
   "metadata": {},
   "outputs": [],
   "source": [
    "# Negative Kurtosis. \n",
    "df.stars.kurtosis().round(2) "
   ]
  },
  {
   "cell_type": "code",
   "execution_count": null,
   "id": "17fb3cbc",
   "metadata": {},
   "outputs": [],
   "source": []
  }
 ],
 "metadata": {
  "kernelspec": {
   "display_name": "Python 3 (ipykernel)",
   "language": "python",
   "name": "python3"
  },
  "language_info": {
   "codemirror_mode": {
    "name": "ipython",
    "version": 3
   },
   "file_extension": ".py",
   "mimetype": "text/x-python",
   "name": "python",
   "nbconvert_exporter": "python",
   "pygments_lexer": "ipython3",
   "version": "3.12.4"
  }
 },
 "nbformat": 4,
 "nbformat_minor": 5
}
